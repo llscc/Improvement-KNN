{
 "cells": [
  {
   "cell_type": "code",
   "execution_count": 1,
   "id": "fe705dea",
   "metadata": {
    "_cell_guid": "b1076dfc-b9ad-4769-8c92-a6c4dae69d19",
    "_uuid": "8f2839f25d086af736a60e9eeb907d3b93b6e0e5",
    "execution": {
     "iopub.execute_input": "2022-11-13T03:20:07.188680Z",
     "iopub.status.busy": "2022-11-13T03:20:07.188135Z",
     "iopub.status.idle": "2022-11-13T03:20:13.167141Z",
     "shell.execute_reply": "2022-11-13T03:20:13.165843Z"
    },
    "papermill": {
     "duration": 5.987373,
     "end_time": "2022-11-13T03:20:13.170185",
     "exception": false,
     "start_time": "2022-11-13T03:20:07.182812",
     "status": "completed"
    },
    "tags": []
   },
   "outputs": [],
   "source": [
    "import numpy as np\n",
    "from sklearn import datasets\n",
    "from sklearn.model_selection import train_test_split\n",
    "from sklearn.metrics import classification_report, confusion_matrix\n",
    "import operator\n",
    "import random\n",
    "import time\n",
    "import os\n",
    "import sys\n",
    "from tensorflow import keras"
   ]
  },
  {
   "cell_type": "code",
   "execution_count": 2,
   "id": "bb62476c",
   "metadata": {
    "execution": {
     "iopub.execute_input": "2022-11-13T03:20:13.177552Z",
     "iopub.status.busy": "2022-11-13T03:20:13.176883Z",
     "iopub.status.idle": "2022-11-13T03:20:13.182704Z",
     "shell.execute_reply": "2022-11-13T03:20:13.181514Z"
    },
    "papermill": {
     "duration": 0.011943,
     "end_time": "2022-11-13T03:20:13.185049",
     "exception": false,
     "start_time": "2022-11-13T03:20:13.173106",
     "status": "completed"
    },
    "tags": []
   },
   "outputs": [],
   "source": [
    "T1 = time.time()"
   ]
  },
  {
   "cell_type": "code",
   "execution_count": 3,
   "id": "0a59e401",
   "metadata": {
    "execution": {
     "iopub.execute_input": "2022-11-13T03:20:13.191865Z",
     "iopub.status.busy": "2022-11-13T03:20:13.191488Z",
     "iopub.status.idle": "2022-11-13T03:20:13.197338Z",
     "shell.execute_reply": "2022-11-13T03:20:13.196251Z"
    },
    "papermill": {
     "duration": 0.012095,
     "end_time": "2022-11-13T03:20:13.199836",
     "exception": false,
     "start_time": "2022-11-13T03:20:13.187741",
     "status": "completed"
    },
    "tags": []
   },
   "outputs": [],
   "source": [
    "\n",
    "def gaussian(dist, sigma=10.0):\n",
    "    \"\"\" Input a distance and return it`s weight\"\"\"\n",
    "    weight = np.exp(-dist ** 2 / (2 * sigma ** 2))\n",
    "    return weight\n"
   ]
  },
  {
   "cell_type": "code",
   "execution_count": 4,
   "id": "fd36b59e",
   "metadata": {
    "execution": {
     "iopub.execute_input": "2022-11-13T03:20:13.207443Z",
     "iopub.status.busy": "2022-11-13T03:20:13.207080Z",
     "iopub.status.idle": "2022-11-13T03:20:13.214985Z",
     "shell.execute_reply": "2022-11-13T03:20:13.214089Z"
    },
    "papermill": {
     "duration": 0.014391,
     "end_time": "2022-11-13T03:20:13.217083",
     "exception": false,
     "start_time": "2022-11-13T03:20:13.202692",
     "status": "completed"
    },
    "tags": []
   },
   "outputs": [],
   "source": [
    "\n",
    "def knn(x_test, x_data, y_data, k):\n",
    "    # 计算样本数量\n",
    "    x_data_size = x_data.shape[0]\n",
    "    # 复制x_test\n",
    "    np.tile(x_test, (x_data_size, 1))\n",
    "    # 计算x_test与每一个样本的差值\n",
    "    diffMat = np.tile(x_test, (x_data_size, 1)) - x_data\n",
    "    # 计算差值的平方\n",
    "    sqDiffMat = diffMat ** 2\n",
    "    # 求和\n",
    "    sqDistances = sqDiffMat.sum(axis=1)\n",
    "    # 开方\n",
    "    distances = sqDistances ** 0.5\n",
    "    # 从小到大排序\n",
    "    sortedDistances = distances.argsort()\n",
    "\n",
    "    # 求权\n",
    "    distancesByWeight = gaussian(sortedDistances)\n",
    "\n",
    "    classCount = {}\n",
    "    for i in range(k):\n",
    "        # 获取标签\n",
    "        votelabel = y_data[sortedDistances[i]]\n",
    "        # 统计标签数量\n",
    "        classCount[votelabel] = classCount.get(votelabel, 0) + distancesByWeight[i] * 1\n",
    "    # 根据operator.itemgetter(1)-第1个值对classCount排序，然后再取倒序\n",
    "    sortedClassCount = sorted(classCount.items(), key=operator.itemgetter(1), reverse=True)\n",
    "    # 获取数量最多的标签\n",
    "    return sortedClassCount[0][0]\n"
   ]
  },
  {
   "cell_type": "code",
   "execution_count": 5,
   "id": "f989b122",
   "metadata": {
    "execution": {
     "iopub.execute_input": "2022-11-13T03:20:13.224437Z",
     "iopub.status.busy": "2022-11-13T03:20:13.224055Z",
     "iopub.status.idle": "2022-11-13T03:20:19.199307Z",
     "shell.execute_reply": "2022-11-13T03:20:19.197660Z"
    },
    "papermill": {
     "duration": 5.983742,
     "end_time": "2022-11-13T03:20:19.203748",
     "exception": false,
     "start_time": "2022-11-13T03:20:13.220006",
     "status": "completed"
    },
    "tags": []
   },
   "outputs": [
    {
     "name": "stdout",
     "output_type": "stream",
     "text": [
      "Downloading data from https://storage.googleapis.com/tensorflow/tf-keras-datasets/train-labels-idx1-ubyte.gz\n",
      "32768/29515 [=================================] - 0s 0us/step\n",
      "40960/29515 [=========================================] - 0s 0us/step\n",
      "Downloading data from https://storage.googleapis.com/tensorflow/tf-keras-datasets/train-images-idx3-ubyte.gz\n",
      "26427392/26421880 [==============================] - 2s 0us/step\n",
      "26435584/26421880 [==============================] - 2s 0us/step\n",
      "Downloading data from https://storage.googleapis.com/tensorflow/tf-keras-datasets/t10k-labels-idx1-ubyte.gz\n",
      "16384/5148 [===============================================================================================] - 0s 0us/step\n",
      "Downloading data from https://storage.googleapis.com/tensorflow/tf-keras-datasets/t10k-images-idx3-ubyte.gz\n",
      "4423680/4422102 [==============================] - 0s 0us/step\n",
      "4431872/4422102 [==============================] - 0s 0us/step\n",
      "(60000, 28, 28)\n",
      "(60000,)\n",
      "(10000, 28, 28)\n",
      "(10000,)\n",
      "(60000, 784)\n",
      "(60000,)\n",
      "(10000, 784)\n",
      "(10000,)\n"
     ]
    }
   ],
   "source": [
    "# fashion_mnist图像分类数据集\n",
    "fashion_mnist = keras.datasets.fashion_mnist\n",
    "\n",
    "(x_train, y_train), (x_test, y_test) = fashion_mnist.load_data()\n",
    "\n",
    "print(x_train.shape)\n",
    "print(y_train.shape)\n",
    "print(x_test.shape)\n",
    "print(y_test.shape)\n",
    "\n",
    "y_test=y_test.flatten()\n",
    "x_train=x_train.reshape(60000,784)\n",
    "y_train=y_train.flatten()\n",
    "x_test=x_test.reshape(10000,784)\n",
    "\n",
    "print(x_train.shape)\n",
    "print(y_train.shape)\n",
    "print(x_test.shape)\n",
    "print(y_test.shape)"
   ]
  },
  {
   "cell_type": "code",
   "execution_count": 6,
   "id": "694ad054",
   "metadata": {
    "execution": {
     "iopub.execute_input": "2022-11-13T03:20:19.218056Z",
     "iopub.status.busy": "2022-11-13T03:20:19.217667Z",
     "iopub.status.idle": "2022-11-13T03:40:49.153507Z",
     "shell.execute_reply": "2022-11-13T03:40:49.152310Z"
    },
    "papermill": {
     "duration": 1229.950198,
     "end_time": "2022-11-13T03:40:49.160986",
     "exception": false,
     "start_time": "2022-11-13T03:20:19.210788",
     "status": "completed"
    },
    "tags": []
   },
   "outputs": [
    {
     "name": "stdout",
     "output_type": "stream",
     "text": [
      "              precision    recall  f1-score   support\n",
      "\n",
      "           0       0.65      0.75      0.70      1000\n",
      "           1       0.84      0.95      0.89      1000\n",
      "           2       0.62      0.65      0.63      1000\n",
      "           3       0.70      0.79      0.74      1000\n",
      "           4       0.67      0.52      0.58      1000\n",
      "           5       0.70      0.95      0.81      1000\n",
      "           6       0.53      0.37      0.44      1000\n",
      "           7       0.81      0.75      0.78      1000\n",
      "           8       0.91      0.76      0.83      1000\n",
      "           9       0.89      0.83      0.86      1000\n",
      "\n",
      "    accuracy                           0.73     10000\n",
      "   macro avg       0.73      0.73      0.73     10000\n",
      "weighted avg       0.73      0.73      0.73     10000\n",
      "\n"
     ]
    }
   ],
   "source": [
    "predictions = []\n",
    "for i in range(x_test.shape[0]):\n",
    "    predictions.append(knn(x_test[i], x_train, y_train, 5))\n",
    "\n",
    "print(classification_report(y_test, predictions))"
   ]
  },
  {
   "cell_type": "code",
   "execution_count": 7,
   "id": "d9bfca8c",
   "metadata": {
    "execution": {
     "iopub.execute_input": "2022-11-13T03:40:49.173666Z",
     "iopub.status.busy": "2022-11-13T03:40:49.173026Z",
     "iopub.status.idle": "2022-11-13T03:40:49.185392Z",
     "shell.execute_reply": "2022-11-13T03:40:49.183956Z"
    },
    "papermill": {
     "duration": 0.021671,
     "end_time": "2022-11-13T03:40:49.188010",
     "exception": false,
     "start_time": "2022-11-13T03:40:49.166339",
     "status": "completed"
    },
    "tags": []
   },
   "outputs": [
    {
     "name": "stdout",
     "output_type": "stream",
     "text": [
      "[[752  31  14  92   6   8  84   1  12   0]\n",
      " [  2 952   4  24   7   3   6   0   2   0]\n",
      " [ 82   7 650  31 110  14 101   0   5   0]\n",
      " [ 51  83   6 789  26   2  21   0  22   0]\n",
      " [ 36  25 215  84 518  12 102   0   8   0]\n",
      " [  0   0   0   3   0 951   0  27   3  16]\n",
      " [227  36 146  93  99  12 370   0  17   0]\n",
      " [  0   0   0   0   0 189   0 747   2  62]\n",
      " [ 14   2  16  10  10  92  16  53 764  23]\n",
      " [  0   1   0   4   0  74   0  89   1 831]]\n"
     ]
    }
   ],
   "source": [
    "print(confusion_matrix(y_test, predictions))"
   ]
  },
  {
   "cell_type": "code",
   "execution_count": 8,
   "id": "034d6c80",
   "metadata": {
    "execution": {
     "iopub.execute_input": "2022-11-13T03:40:49.201372Z",
     "iopub.status.busy": "2022-11-13T03:40:49.200348Z",
     "iopub.status.idle": "2022-11-13T03:40:49.205757Z",
     "shell.execute_reply": "2022-11-13T03:40:49.204933Z"
    },
    "papermill": {
     "duration": 0.014589,
     "end_time": "2022-11-13T03:40:49.208214",
     "exception": false,
     "start_time": "2022-11-13T03:40:49.193625",
     "status": "completed"
    },
    "tags": []
   },
   "outputs": [
    {
     "name": "stdout",
     "output_type": "stream",
     "text": [
      "程序运行时间:1236.0238513946533秒\n"
     ]
    }
   ],
   "source": [
    "T2 = time.time()\n",
    "print('程序运行时间:%s秒' % ((T2 - T1)))"
   ]
  }
 ],
 "metadata": {
  "kernelspec": {
   "display_name": "Python 3",
   "language": "python",
   "name": "python3"
  },
  "language_info": {
   "codemirror_mode": {
    "name": "ipython",
    "version": 3
   },
   "file_extension": ".py",
   "mimetype": "text/x-python",
   "name": "python",
   "nbconvert_exporter": "python",
   "pygments_lexer": "ipython3",
   "version": "3.7.12"
  },
  "papermill": {
   "default_parameters": {},
   "duration": 1253.977454,
   "end_time": "2022-11-13T03:40:52.369893",
   "environment_variables": {},
   "exception": null,
   "input_path": "__notebook__.ipynb",
   "output_path": "__notebook__.ipynb",
   "parameters": {},
   "start_time": "2022-11-13T03:19:58.392439",
   "version": "2.3.4"
  }
 },
 "nbformat": 4,
 "nbformat_minor": 5
}
