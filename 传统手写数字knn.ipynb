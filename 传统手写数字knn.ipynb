{
 "cells": [
  {
   "cell_type": "code",
   "execution_count": 54,
   "metadata": {
    "collapsed": true
   },
   "outputs": [],
   "source": [
    "# 导入算法包以及数据集\n",
    "import numpy as np\n",
    "from sklearn import datasets\n",
    "from sklearn.model_selection import train_test_split\n",
    "from sklearn.metrics import classification_report,confusion_matrix\n",
    "import operator\n",
    "import random\n",
    "import time\n",
    "from sklearn.preprocessing import MinMaxScaler\n",
    "from sklearn.decomposition import PCA\n",
    "#cifar10_dir = './cifar-10-batches-py'"
   ]
  },
  {
   "cell_type": "code",
   "execution_count": 55,
   "outputs": [],
   "source": [
    "T1 = time.time()\n",
    "\n",
    "def knn(x_test, x_data, y_data, k):\n",
    "    # 计算样本数量\n",
    "    x_data_size = x_data.shape[0]\n",
    "    # 复制x_test\n",
    "    np.tile(x_test, (x_data_size,1))\n",
    "    # 计算x_test与每一个样本的差值\n",
    "    diffMat = np.tile(x_test, (x_data_size,1)) - x_data\n",
    "    # 计算差值的平方\n",
    "    sqDiffMat = diffMat**2\n",
    "    # 求和\n",
    "    sqDistances = sqDiffMat.sum(axis=1)\n",
    "    # 开方\n",
    "    distances = sqDistances**0.5\n",
    "    # 从小到大排序\n",
    "    sortedDistances = distances.argsort()\n",
    "    classCount = {}\n",
    "    for i in range(k):\n",
    "        # 获取标签\n",
    "        votelabel = y_data[sortedDistances[i]]\n",
    "        # 统计标签数量\n",
    "        classCount[votelabel] = classCount.get(votelabel,0) + 1\n",
    "    # 根据operator.itemgetter(1)-第1个值对classCount排序，然后再取倒序\n",
    "    sortedClassCount = sorted(classCount.items(),key=operator.itemgetter(1), reverse=True)\n",
    "    # 获取数量最多的标签\n",
    "    return sortedClassCount[0][0]"
   ],
   "metadata": {
    "collapsed": false,
    "pycharm": {
     "name": "#%%\n"
    }
   }
  },
  {
   "cell_type": "code",
   "execution_count": 56,
   "outputs": [
    {
     "name": "stdout",
     "output_type": "stream",
     "text": [
      "(1797, 64)\n",
      "(1437, 64)\n",
      "(1437,)\n",
      "[4 9 6 ... 9 1 5]\n",
      "(360, 64)\n",
      "[[ 0.  0.  6. ...  3.  0.  0.]\n",
      " [ 0.  8. 13. ...  0.  0.  0.]\n",
      " [ 0.  0.  4. ...  6.  0.  0.]\n",
      " ...\n",
      " [ 0.  0.  0. ...  1.  0.  0.]\n",
      " [ 0.  3. 15. ... 16. 16.  2.]\n",
      " [ 0.  0.  8. ...  0.  0.  0.]]\n"
     ]
    }
   ],
   "source": [
    "hand=datasets.load_digits()\n",
    "print(hand.data.shape)\n",
    "x_train,x_test,y_train,y_test = train_test_split(hand.data, hand.target, test_size=0.2,random_state=1)\n",
    "print(x_train.shape)\n",
    "print(y_train.shape)\n",
    "print(y_train)\n",
    "print(x_test.shape)\n",
    "print(x_test)\n",
    "mm = MinMaxScaler(feature_range=(0, 1))\n",
    "x_train = mm.fit_transform(x_train)\n",
    "x_test=mm.fit_transform(x_test)\n",
    "print(x_test)"
   ],
   "metadata": {
    "collapsed": false,
    "pycharm": {
     "name": "#%%\n"
    }
   }
  },
  {
   "cell_type": "code",
   "execution_count": 57,
   "outputs": [
    {
     "name": "stdout",
     "output_type": "stream",
     "text": [
      "              precision    recall  f1-score   support\n",
      "\n",
      "           0       1.00      1.00      1.00        43\n",
      "           1       1.00      1.00      1.00        35\n",
      "           2       1.00      0.97      0.99        36\n",
      "           3       1.00      1.00      1.00        41\n",
      "           4       1.00      1.00      1.00        38\n",
      "           5       1.00      1.00      1.00        30\n",
      "           6       1.00      1.00      1.00        37\n",
      "           7       0.97      0.97      0.97        37\n",
      "           8       1.00      1.00      1.00        29\n",
      "           9       0.97      1.00      0.99        34\n",
      "\n",
      "    accuracy                           0.99       360\n",
      "   macro avg       0.99      0.99      0.99       360\n",
      "weighted avg       0.99      0.99      0.99       360\n",
      "\n"
     ]
    }
   ],
   "source": [
    "predictions = []\n",
    "for i in range(x_test.shape[0]):\n",
    "    predictions.append(knn(x_test[i], x_train, y_train, 5))\n",
    "\n",
    "print(classification_report(y_test, predictions))\n"
   ],
   "metadata": {
    "collapsed": false,
    "pycharm": {
     "name": "#%%\n"
    }
   }
  },
  {
   "cell_type": "code",
   "execution_count": 58,
   "outputs": [
    {
     "name": "stdout",
     "output_type": "stream",
     "text": [
      "[[43  0  0  0  0  0  0  0  0  0]\n",
      " [ 0 35  0  0  0  0  0  0  0  0]\n",
      " [ 0  0 35  0  0  0  0  1  0  0]\n",
      " [ 0  0  0 41  0  0  0  0  0  0]\n",
      " [ 0  0  0  0 38  0  0  0  0  0]\n",
      " [ 0  0  0  0  0 30  0  0  0  0]\n",
      " [ 0  0  0  0  0  0 37  0  0  0]\n",
      " [ 0  0  0  0  0  0  0 36  0  1]\n",
      " [ 0  0  0  0  0  0  0  0 29  0]\n",
      " [ 0  0  0  0  0  0  0  0  0 34]]\n",
      "程序运行时间:0.21196722984313965秒\n"
     ]
    }
   ],
   "source": [
    "print(confusion_matrix(y_test,predictions))\n",
    "\n",
    "\n",
    "T2 = time.time()\n",
    "print('程序运行时间:%s秒' % ((T2 - T1)))"
   ],
   "metadata": {
    "collapsed": false,
    "pycharm": {
     "name": "#%%\n"
    }
   }
  }
 ],
 "metadata": {
  "kernelspec": {
   "display_name": "Python 3",
   "language": "python",
   "name": "python3"
  },
  "language_info": {
   "codemirror_mode": {
    "name": "ipython",
    "version": 2
   },
   "file_extension": ".py",
   "mimetype": "text/x-python",
   "name": "python",
   "nbconvert_exporter": "python",
   "pygments_lexer": "ipython2",
   "version": "2.7.6"
  }
 },
 "nbformat": 4,
 "nbformat_minor": 0
}