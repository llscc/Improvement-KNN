{
 "cells": [
  {
   "cell_type": "code",
   "execution_count": 1,
   "id": "16fec120",
   "metadata": {
    "execution": {
     "iopub.execute_input": "2022-11-13T02:35:37.125293Z",
     "iopub.status.busy": "2022-11-13T02:35:37.124854Z",
     "iopub.status.idle": "2022-11-13T02:35:47.708301Z",
     "shell.execute_reply": "2022-11-13T02:35:47.707089Z"
    },
    "papermill": {
     "duration": 10.590651,
     "end_time": "2022-11-13T02:35:47.711324",
     "exception": false,
     "start_time": "2022-11-13T02:35:37.120673",
     "status": "completed"
    },
    "tags": []
   },
   "outputs": [],
   "source": [
    "import numpy as np\n",
    "from sklearn import datasets\n",
    "from sklearn.model_selection import train_test_split\n",
    "from sklearn.metrics import classification_report, confusion_matrix\n",
    "import operator\n",
    "import random\n",
    "import time\n",
    "import os\n",
    "import sys\n",
    "from tensorflow import keras"
   ]
  },
  {
   "cell_type": "code",
   "execution_count": 2,
   "id": "463a04f8",
   "metadata": {
    "execution": {
     "iopub.execute_input": "2022-11-13T02:35:47.717309Z",
     "iopub.status.busy": "2022-11-13T02:35:47.716753Z",
     "iopub.status.idle": "2022-11-13T02:35:47.721556Z",
     "shell.execute_reply": "2022-11-13T02:35:47.720537Z"
    },
    "papermill": {
     "duration": 0.01,
     "end_time": "2022-11-13T02:35:47.723793",
     "exception": false,
     "start_time": "2022-11-13T02:35:47.713793",
     "status": "completed"
    },
    "tags": []
   },
   "outputs": [],
   "source": [
    "T1 = time.time()"
   ]
  },
  {
   "cell_type": "code",
   "execution_count": 3,
   "id": "953fedb9",
   "metadata": {
    "execution": {
     "iopub.execute_input": "2022-11-13T02:35:47.729459Z",
     "iopub.status.busy": "2022-11-13T02:35:47.728666Z",
     "iopub.status.idle": "2022-11-13T02:35:47.736532Z",
     "shell.execute_reply": "2022-11-13T02:35:47.735706Z"
    },
    "papermill": {
     "duration": 0.012932,
     "end_time": "2022-11-13T02:35:47.738706",
     "exception": false,
     "start_time": "2022-11-13T02:35:47.725774",
     "status": "completed"
    },
    "tags": []
   },
   "outputs": [],
   "source": [
    "\n",
    "def knn(x_test, x_data, y_data, k):\n",
    "    # 计算样本数量\n",
    "    x_data_size = x_data.shape[0]\n",
    "    # 复制x_test\n",
    "    np.tile(x_test, (x_data_size, 1))\n",
    "    # 计算x_test与每一个样本的差值\n",
    "    diffMat = np.tile(x_test, (x_data_size, 1)) - x_data\n",
    "    # 计算差值的平方\n",
    "    sqDiffMat = diffMat ** 2\n",
    "    # 求和\n",
    "    sqDistances = sqDiffMat.sum(axis=1)\n",
    "    # 开方\n",
    "    distances = sqDistances ** 0.5\n",
    "    # 从小到大排序\n",
    "    sortedDistances = distances.argsort()\n",
    "\n",
    "    # 求权\n",
    "    distancesByWeight = inverse(sortedDistances, 10)\n",
    "\n",
    "    classCount = {}\n",
    "    for i in range(k):\n",
    "        # 获取标签\n",
    "        votelabel = y_data[sortedDistances[i]]\n",
    "        # 统计标签数量\n",
    "        classCount[votelabel] = classCount.get(votelabel, 0) + distancesByWeight[i] * 1\n",
    "    # 根据operator.itemgetter(1)-第1个值对classCount排序，然后再取倒序\n",
    "    sortedClassCount = sorted(classCount.items(), key=operator.itemgetter(1), reverse=True)\n",
    "    # 获取数量最多的标签\n",
    "    return sortedClassCount[0][0]\n"
   ]
  },
  {
   "cell_type": "code",
   "execution_count": 4,
   "id": "5482c818",
   "metadata": {
    "execution": {
     "iopub.execute_input": "2022-11-13T02:35:47.743869Z",
     "iopub.status.busy": "2022-11-13T02:35:47.743607Z",
     "iopub.status.idle": "2022-11-13T02:35:47.747949Z",
     "shell.execute_reply": "2022-11-13T02:35:47.747017Z"
    },
    "papermill": {
     "duration": 0.009126,
     "end_time": "2022-11-13T02:35:47.749897",
     "exception": false,
     "start_time": "2022-11-13T02:35:47.740771",
     "status": "completed"
    },
    "tags": []
   },
   "outputs": [],
   "source": [
    "\n",
    "def inverse(dist, const):\n",
    "    \"\"\" Input a distance and return it`s weight\"\"\"\n",
    "    weight = 1 / (dist + const)\n",
    "    return weight\n"
   ]
  },
  {
   "cell_type": "code",
   "execution_count": 5,
   "id": "4beaf22b",
   "metadata": {
    "execution": {
     "iopub.execute_input": "2022-11-13T02:35:47.756118Z",
     "iopub.status.busy": "2022-11-13T02:35:47.755354Z",
     "iopub.status.idle": "2022-11-13T02:35:50.170926Z",
     "shell.execute_reply": "2022-11-13T02:35:50.169758Z"
    },
    "papermill": {
     "duration": 2.42165,
     "end_time": "2022-11-13T02:35:50.174022",
     "exception": false,
     "start_time": "2022-11-13T02:35:47.752372",
     "status": "completed"
    },
    "tags": []
   },
   "outputs": [
    {
     "name": "stdout",
     "output_type": "stream",
     "text": [
      "Downloading data from https://storage.googleapis.com/tensorflow/tf-keras-datasets/train-labels-idx1-ubyte.gz\n",
      "32768/29515 [=================================] - 0s 0us/step\n",
      "40960/29515 [=========================================] - 0s 0us/step\n",
      "Downloading data from https://storage.googleapis.com/tensorflow/tf-keras-datasets/train-images-idx3-ubyte.gz\n",
      "26427392/26421880 [==============================] - 0s 0us/step\n",
      "26435584/26421880 [==============================] - 0s 0us/step\n",
      "Downloading data from https://storage.googleapis.com/tensorflow/tf-keras-datasets/t10k-labels-idx1-ubyte.gz\n",
      "16384/5148 [===============================================================================================] - 0s 0us/step\n",
      "Downloading data from https://storage.googleapis.com/tensorflow/tf-keras-datasets/t10k-images-idx3-ubyte.gz\n",
      "4423680/4422102 [==============================] - 0s 0us/step\n",
      "4431872/4422102 [==============================] - 0s 0us/step\n",
      "(60000, 28, 28)\n",
      "(60000,)\n",
      "(10000, 28, 28)\n",
      "(10000,)\n",
      "(60000, 784)\n",
      "(60000,)\n",
      "(10000, 784)\n",
      "(10000,)\n"
     ]
    }
   ],
   "source": [
    "# fashion_mnist图像分类数据集\n",
    "fashion_mnist = keras.datasets.fashion_mnist\n",
    "\n",
    "(x_train, y_train), (x_test, y_test) = fashion_mnist.load_data()\n",
    "\n",
    "print(x_train.shape)\n",
    "print(y_train.shape)\n",
    "print(x_test.shape)\n",
    "print(y_test.shape)\n",
    "\n",
    "y_test=y_test.flatten()\n",
    "x_train=x_train.reshape(60000,784)\n",
    "y_train=y_train.flatten()\n",
    "x_test=x_test.reshape(10000,784)\n",
    "\n",
    "print(x_train.shape)\n",
    "print(y_train.shape)\n",
    "print(x_test.shape)\n",
    "print(y_test.shape)"
   ]
  },
  {
   "cell_type": "code",
   "execution_count": 6,
   "id": "d5696806",
   "metadata": {
    "execution": {
     "iopub.execute_input": "2022-11-13T02:35:50.182803Z",
     "iopub.status.busy": "2022-11-13T02:35:50.182263Z",
     "iopub.status.idle": "2022-11-13T02:53:53.707676Z",
     "shell.execute_reply": "2022-11-13T02:53:53.697344Z"
    },
    "papermill": {
     "duration": 1083.53587,
     "end_time": "2022-11-13T02:53:53.713799",
     "exception": false,
     "start_time": "2022-11-13T02:35:50.177929",
     "status": "completed"
    },
    "tags": []
   },
   "outputs": [
    {
     "name": "stdout",
     "output_type": "stream",
     "text": [
      "              precision    recall  f1-score   support\n",
      "\n",
      "           0       0.63      0.73      0.68      1000\n",
      "           1       0.81      0.95      0.88      1000\n",
      "           2       0.64      0.65      0.64      1000\n",
      "           3       0.67      0.81      0.73      1000\n",
      "           4       0.66      0.51      0.57      1000\n",
      "           5       0.68      0.96      0.79      1000\n",
      "           6       0.53      0.33      0.41      1000\n",
      "           7       0.81      0.73      0.77      1000\n",
      "           8       0.92      0.74      0.82      1000\n",
      "           9       0.90      0.83      0.86      1000\n",
      "\n",
      "    accuracy                           0.72     10000\n",
      "   macro avg       0.72      0.72      0.72     10000\n",
      "weighted avg       0.72      0.72      0.72     10000\n",
      "\n"
     ]
    }
   ],
   "source": [
    "predictions = []\n",
    "for i in range(x_test.shape[0]):\n",
    "    predictions.append(knn(x_test[i], x_train, y_train, 5))\n",
    "\n",
    "print(classification_report(y_test, predictions))"
   ]
  },
  {
   "cell_type": "code",
   "execution_count": 7,
   "id": "d4394d01",
   "metadata": {
    "execution": {
     "iopub.execute_input": "2022-11-13T02:53:53.737956Z",
     "iopub.status.busy": "2022-11-13T02:53:53.737595Z",
     "iopub.status.idle": "2022-11-13T02:53:53.753733Z",
     "shell.execute_reply": "2022-11-13T02:53:53.752834Z"
    },
    "papermill": {
     "duration": 0.02526,
     "end_time": "2022-11-13T02:53:53.756352",
     "exception": false,
     "start_time": "2022-11-13T02:53:53.731092",
     "status": "completed"
    },
    "tags": []
   },
   "outputs": [
    {
     "name": "stdout",
     "output_type": "stream",
     "text": [
      "[[734  33  14 122   7   9  70   1  10   0]\n",
      " [  5 951   4  24   3   2   6   0   4   1]\n",
      " [ 80  11 650  40 113  15  86   1   4   0]\n",
      " [ 52  91   3 807  13   3  15   0  16   0]\n",
      " [ 40  37 194  90 507  12 110   0   9   1]\n",
      " [  0   2   0   2   0 957   0  29   0  10]\n",
      " [229  38 137 112 117  15 333   2  17   0]\n",
      " [  0   0   0   0   0 205   0 735   0  60]\n",
      " [ 17   4  17   7  11 110  14  60 736  24]\n",
      " [  0   1   0   5   0  84   0  81   1 828]]\n"
     ]
    }
   ],
   "source": [
    "print(confusion_matrix(y_test, predictions))"
   ]
  },
  {
   "cell_type": "code",
   "execution_count": 8,
   "id": "37c034ca",
   "metadata": {
    "execution": {
     "iopub.execute_input": "2022-11-13T02:53:53.769411Z",
     "iopub.status.busy": "2022-11-13T02:53:53.769082Z",
     "iopub.status.idle": "2022-11-13T02:53:53.774468Z",
     "shell.execute_reply": "2022-11-13T02:53:53.773578Z"
    },
    "papermill": {
     "duration": 0.017501,
     "end_time": "2022-11-13T02:53:53.780571",
     "exception": false,
     "start_time": "2022-11-13T02:53:53.763070",
     "status": "completed"
    },
    "tags": []
   },
   "outputs": [
    {
     "name": "stdout",
     "output_type": "stream",
     "text": [
      "程序运行时间:1086.0524480342865秒\n"
     ]
    }
   ],
   "source": [
    "T2 = time.time()\n",
    "print('程序运行时间:%s秒' % ((T2 - T1)))"
   ]
  }
 ],
 "metadata": {
  "kernelspec": {
   "display_name": "Python 3",
   "language": "python",
   "name": "python3"
  },
  "language_info": {
   "codemirror_mode": {
    "name": "ipython",
    "version": 3
   },
   "file_extension": ".py",
   "mimetype": "text/x-python",
   "name": "python",
   "nbconvert_exporter": "python",
   "pygments_lexer": "ipython3",
   "version": "3.7.12"
  },
  "papermill": {
   "default_parameters": {},
   "duration": 1110.740933,
   "end_time": "2022-11-13T02:53:56.665058",
   "environment_variables": {},
   "exception": null,
   "input_path": "__notebook__.ipynb",
   "output_path": "__notebook__.ipynb",
   "parameters": {},
   "start_time": "2022-11-13T02:35:25.924125",
   "version": "2.3.4"
  }
 },
 "nbformat": 4,
 "nbformat_minor": 5
}
