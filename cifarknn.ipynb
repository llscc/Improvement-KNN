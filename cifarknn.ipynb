{
 "cells": [
  {
   "cell_type": "code",
   "execution_count": 51,
   "outputs": [],
   "source": [
    "# 导入算法包以及数据集\n",
    "import numpy as np\n",
    "import sklearn\n",
    "from sklearn.model_selection import train_test_split\n",
    "from sklearn.metrics import classification_report,confusion_matrix\n",
    "import operator\n",
    "import random\n",
    "import os\n",
    "import sys\n",
    "import time\n",
    "from tensorflow import keras"
   ],
   "metadata": {
    "collapsed": false,
    "pycharm": {
     "name": "#%%%\n"
    }
   }
  },
  {
   "cell_type": "code",
   "execution_count": 52,
   "outputs": [],
   "source": [
    "def knn(x_test, x_data, y_data, k):\n",
    "    # 计算样本数量\n",
    "    x_data_size = x_data.shape[0]\n",
    "    # 复制x_test\n",
    "    np.tile(x_test, (x_data_size, 1))\n",
    "    # 计算x_test与每一个样本的差值\n",
    "    diffMat = np.tile(x_test, (x_data_size, 1)) - x_data\n",
    "    # 计算差值的平方\n",
    "    sqDiffMat = diffMat ** 2\n",
    "    # 求和\n",
    "    sqDistances = sqDiffMat.sum(axis=1)\n",
    "    # 开方\n",
    "    distances = sqDistances ** 0.5\n",
    "    # 从小到大排序\n",
    "    sortedDistances = distances.argsort()\n",
    "\n",
    "    classCount = {}\n",
    "    for i in range(k):\n",
    "        # 获取标签\n",
    "        votelabel = y_data[sortedDistances[i]]\n",
    "        # 统计标签数量\n",
    "        classCount[votelabel] = classCount.get(votelabel, 0) + 1\n",
    "    # 根据operator.itemgetter(1)-第1个值对classCount排序，然后再取倒序\n",
    "    sortedClassCount = sorted(classCount.items(), key=operator.itemgetter(1), reverse=True)\n",
    "    # 获取数量最多的标签\n",
    "    return sortedClassCount[0][0]"
   ],
   "metadata": {
    "collapsed": false,
    "pycharm": {
     "name": "#%%\n"
    }
   }
  },
  {
   "cell_type": "code",
   "execution_count": 53,
   "outputs": [
    {
     "name": "stdout",
     "output_type": "stream",
     "text": [
      "(50000, 32, 32, 3)\n",
      "(50000, 1)\n",
      "(10000, 32, 32, 3)\n",
      "(10000, 1)\n",
      "(50000, 3072)\n",
      "(50000,)\n",
      "(10000, 3072)\n",
      "(10000,)\n"
     ]
    }
   ],
   "source": [
    "(x_train,y_train),(x_test,y_test) = keras.datasets.cifar10.load_data()\n",
    "#x_train,x_test,y_train,y_test = train_test_split(cifar10.data, cifar10.target, test_size=0.2)\n",
    "print(x_train.shape)\n",
    "print(y_train.shape)\n",
    "print(x_test.shape)\n",
    "print(y_test.shape)\n",
    "\n",
    "y_test=y_test.flatten()\n",
    "x_train=x_train.reshape(50000,3072)\n",
    "y_train=y_train.flatten()\n",
    "x_test=x_test.reshape(10000,3072)\n",
    "print(x_train.shape)\n",
    "print(y_train.shape)\n",
    "print(x_test.shape)\n",
    "print(y_test.shape)"
   ],
   "metadata": {
    "collapsed": false,
    "pycharm": {
     "name": "#%%\n"
    }
   }
  },
  {
   "cell_type": "code",
   "execution_count": null,
   "outputs": [
    {
     "ename": "KeyboardInterrupt",
     "evalue": "",
     "output_type": "error",
     "traceback": [
      "\u001B[1;31m---------------------------------------------------------------------------\u001B[0m",
      "\u001B[1;31mKeyboardInterrupt\u001B[0m                         Traceback (most recent call last)",
      "Input \u001B[1;32mIn [54]\u001B[0m, in \u001B[0;36m<cell line: 2>\u001B[1;34m()\u001B[0m\n\u001B[0;32m      1\u001B[0m predictions \u001B[38;5;241m=\u001B[39m []\n\u001B[0;32m      2\u001B[0m \u001B[38;5;28;01mfor\u001B[39;00m i \u001B[38;5;129;01min\u001B[39;00m \u001B[38;5;28mrange\u001B[39m(x_test\u001B[38;5;241m.\u001B[39mshape[\u001B[38;5;241m0\u001B[39m]):\n\u001B[1;32m----> 3\u001B[0m     predictions\u001B[38;5;241m.\u001B[39mappend(\u001B[43mknn\u001B[49m\u001B[43m(\u001B[49m\u001B[43mx_test\u001B[49m\u001B[43m[\u001B[49m\u001B[43mi\u001B[49m\u001B[43m]\u001B[49m\u001B[43m,\u001B[49m\u001B[43m \u001B[49m\u001B[43mx_train\u001B[49m\u001B[43m,\u001B[49m\u001B[43m \u001B[49m\u001B[43my_train\u001B[49m\u001B[43m,\u001B[49m\u001B[43m \u001B[49m\u001B[38;5;241;43m5\u001B[39;49m\u001B[43m)\u001B[49m)\n\u001B[0;32m      5\u001B[0m \u001B[38;5;28mprint\u001B[39m(classification_report(y_test, predictions))\n",
      "Input \u001B[1;32mIn [52]\u001B[0m, in \u001B[0;36mknn\u001B[1;34m(x_test, x_data, y_data, k)\u001B[0m\n\u001B[0;32m      7\u001B[0m diffMat \u001B[38;5;241m=\u001B[39m np\u001B[38;5;241m.\u001B[39mtile(x_test, (x_data_size, \u001B[38;5;241m1\u001B[39m)) \u001B[38;5;241m-\u001B[39m x_data\n\u001B[0;32m      8\u001B[0m \u001B[38;5;66;03m# 计算差值的平方\u001B[39;00m\n\u001B[1;32m----> 9\u001B[0m sqDiffMat \u001B[38;5;241m=\u001B[39m \u001B[43mdiffMat\u001B[49m\u001B[43m \u001B[49m\u001B[38;5;241;43m*\u001B[39;49m\u001B[38;5;241;43m*\u001B[39;49m\u001B[43m \u001B[49m\u001B[38;5;241;43m2\u001B[39;49m\n\u001B[0;32m     10\u001B[0m \u001B[38;5;66;03m# 求和\u001B[39;00m\n\u001B[0;32m     11\u001B[0m sqDistances \u001B[38;5;241m=\u001B[39m sqDiffMat\u001B[38;5;241m.\u001B[39msum(axis\u001B[38;5;241m=\u001B[39m\u001B[38;5;241m1\u001B[39m)\n",
      "\u001B[1;31mKeyboardInterrupt\u001B[0m: "
     ]
    }
   ],
   "source": [
    "predictions = []\n",
    "for i in range(x_test.shape[0]):\n",
    "    predictions.append(knn(x_test[i], x_train, y_train, 5))\n",
    "\n",
    "print(classification_report(y_test, predictions))"
   ],
   "metadata": {
    "collapsed": false,
    "pycharm": {
     "name": "#%%\n"
    }
   }
  },
  {
   "cell_type": "code",
   "execution_count": null,
   "outputs": [],
   "source": [
    "print(confusion_matrix(y_test, predictions))"
   ],
   "metadata": {
    "collapsed": false,
    "pycharm": {
     "name": "#%%\n"
    }
   }
  }
 ],
 "metadata": {
  "kernelspec": {
   "display_name": "Python 3",
   "language": "python",
   "name": "python3"
  },
  "language_info": {
   "codemirror_mode": {
    "name": "ipython",
    "version": 2
   },
   "file_extension": ".py",
   "mimetype": "text/x-python",
   "name": "python",
   "nbconvert_exporter": "python",
   "pygments_lexer": "ipython2",
   "version": "2.7.6"
  }
 },
 "nbformat": 4,
 "nbformat_minor": 0
}