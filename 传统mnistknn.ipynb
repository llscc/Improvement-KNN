{
 "cells": [
  {
   "cell_type": "code",
   "execution_count": 1,
   "id": "038993c7",
   "metadata": {
    "_cell_guid": "b1076dfc-b9ad-4769-8c92-a6c4dae69d19",
    "_uuid": "8f2839f25d086af736a60e9eeb907d3b93b6e0e5",
    "execution": {
     "iopub.execute_input": "2022-11-13T02:06:53.999124Z",
     "iopub.status.busy": "2022-11-13T02:06:53.998563Z",
     "iopub.status.idle": "2022-11-13T02:07:04.580398Z",
     "shell.execute_reply": "2022-11-13T02:07:04.579371Z"
    },
    "papermill": {
     "duration": 10.589947,
     "end_time": "2022-11-13T02:07:04.583429",
     "exception": false,
     "start_time": "2022-11-13T02:06:53.993482",
     "status": "completed"
    },
    "tags": []
   },
   "outputs": [],
   "source": [
    "import numpy as np\n",
    "import sklearn\n",
    "from sklearn.model_selection import train_test_split\n",
    "from sklearn.metrics import classification_report,confusion_matrix\n",
    "import operator\n",
    "import random\n",
    "import os\n",
    "import sys\n",
    "import time\n",
    "from tensorflow import keras"
   ]
  },
  {
   "cell_type": "code",
   "execution_count": 2,
   "id": "08d7b465",
   "metadata": {
    "execution": {
     "iopub.execute_input": "2022-11-13T02:07:04.590034Z",
     "iopub.status.busy": "2022-11-13T02:07:04.589488Z",
     "iopub.status.idle": "2022-11-13T02:07:04.595110Z",
     "shell.execute_reply": "2022-11-13T02:07:04.594253Z"
    },
    "papermill": {
     "duration": 0.01095,
     "end_time": "2022-11-13T02:07:04.597043",
     "exception": false,
     "start_time": "2022-11-13T02:07:04.586093",
     "status": "completed"
    },
    "tags": []
   },
   "outputs": [],
   "source": [
    "T1 = time.time()"
   ]
  },
  {
   "cell_type": "code",
   "execution_count": 3,
   "id": "7804df78",
   "metadata": {
    "execution": {
     "iopub.execute_input": "2022-11-13T02:07:04.603020Z",
     "iopub.status.busy": "2022-11-13T02:07:04.602253Z",
     "iopub.status.idle": "2022-11-13T02:07:07.026719Z",
     "shell.execute_reply": "2022-11-13T02:07:07.024938Z"
    },
    "papermill": {
     "duration": 2.430066,
     "end_time": "2022-11-13T02:07:07.029171",
     "exception": false,
     "start_time": "2022-11-13T02:07:04.599105",
     "status": "completed"
    },
    "tags": []
   },
   "outputs": [
    {
     "name": "stdout",
     "output_type": "stream",
     "text": [
      "Downloading data from https://storage.googleapis.com/tensorflow/tf-keras-datasets/train-labels-idx1-ubyte.gz\n",
      "32768/29515 [=================================] - 0s 0us/step\n",
      "40960/29515 [=========================================] - 0s 0us/step\n",
      "Downloading data from https://storage.googleapis.com/tensorflow/tf-keras-datasets/train-images-idx3-ubyte.gz\n",
      "26427392/26421880 [==============================] - 0s 0us/step\n",
      "26435584/26421880 [==============================] - 0s 0us/step\n",
      "Downloading data from https://storage.googleapis.com/tensorflow/tf-keras-datasets/t10k-labels-idx1-ubyte.gz\n",
      "16384/5148 [===============================================================================================] - 0s 0us/step\n",
      "Downloading data from https://storage.googleapis.com/tensorflow/tf-keras-datasets/t10k-images-idx3-ubyte.gz\n",
      "4423680/4422102 [==============================] - 0s 0us/step\n",
      "4431872/4422102 [==============================] - 0s 0us/step\n",
      "(60000, 28, 28)\n",
      "(60000,)\n",
      "(10000, 28, 28)\n",
      "(10000,)\n",
      "(60000, 784)\n",
      "(60000,)\n",
      "(10000, 784)\n",
      "(10000,)\n"
     ]
    }
   ],
   "source": [
    "# fashion_mnist图像分类数据集\n",
    "fashion_mnist = keras.datasets.fashion_mnist\n",
    "\n",
    "(x_train, y_train), (x_test, y_test) = fashion_mnist.load_data()\n",
    "\n",
    "print(x_train.shape)\n",
    "print(y_train.shape)\n",
    "print(x_test.shape)\n",
    "print(y_test.shape)\n",
    "\n",
    "y_test=y_test.flatten()\n",
    "x_train=x_train.reshape(60000,784)\n",
    "y_train=y_train.flatten()\n",
    "x_test=x_test.reshape(10000,784)\n",
    "\n",
    "print(x_train.shape)\n",
    "print(y_train.shape)\n",
    "print(x_test.shape)\n",
    "print(y_test.shape)"
   ]
  },
  {
   "cell_type": "code",
   "execution_count": 4,
   "id": "a63a0bf2",
   "metadata": {
    "execution": {
     "iopub.execute_input": "2022-11-13T02:07:07.037777Z",
     "iopub.status.busy": "2022-11-13T02:07:07.037087Z",
     "iopub.status.idle": "2022-11-13T02:07:07.045502Z",
     "shell.execute_reply": "2022-11-13T02:07:07.044649Z"
    },
    "papermill": {
     "duration": 0.014839,
     "end_time": "2022-11-13T02:07:07.047567",
     "exception": false,
     "start_time": "2022-11-13T02:07:07.032728",
     "status": "completed"
    },
    "tags": []
   },
   "outputs": [],
   "source": [
    "def knn(x_test, x_data, y_data, k):\n",
    "    # 计算样本数量\n",
    "    x_data_size = x_data.shape[0]\n",
    "    # 复制x_test\n",
    "    np.tile(x_test, (x_data_size, 1))\n",
    "    # 计算x_test与每一个样本的差值\n",
    "    diffMat = np.tile(x_test, (x_data_size, 1)) - x_data\n",
    "    # 计算差值的平方\n",
    "    sqDiffMat = diffMat ** 2\n",
    "    # 求和\n",
    "    sqDistances = sqDiffMat.sum(axis=1)\n",
    "    # 开方\n",
    "    distances = sqDistances ** 0.5\n",
    "    # 从小到大排序\n",
    "    sortedDistances = distances.argsort()\n",
    "\n",
    "    classCount = {}\n",
    "    for i in range(k):\n",
    "        # 获取标签\n",
    "        votelabel = y_data[sortedDistances[i]]\n",
    "        # 统计标签数量\n",
    "        classCount[votelabel] = classCount.get(votelabel, 0) + 1\n",
    "    # 根据operator.itemgetter(1)-第1个值对classCount排序，然后再取倒序\n",
    "    sortedClassCount = sorted(classCount.items(), key=operator.itemgetter(1), reverse=True)\n",
    "    # 获取数量最多的标签\n",
    "    return sortedClassCount[0][0]"
   ]
  },
  {
   "cell_type": "code",
   "execution_count": 5,
   "id": "3d6c0528",
   "metadata": {
    "execution": {
     "iopub.execute_input": "2022-11-13T02:07:07.054857Z",
     "iopub.status.busy": "2022-11-13T02:07:07.054554Z",
     "iopub.status.idle": "2022-11-13T02:25:10.413732Z",
     "shell.execute_reply": "2022-11-13T02:25:10.412600Z"
    },
    "papermill": {
     "duration": 1083.36961,
     "end_time": "2022-11-13T02:25:10.420323",
     "exception": false,
     "start_time": "2022-11-13T02:07:07.050713",
     "status": "completed"
    },
    "tags": []
   },
   "outputs": [
    {
     "name": "stdout",
     "output_type": "stream",
     "text": [
      "              precision    recall  f1-score   support\n",
      "\n",
      "           0       0.66      0.80      0.73      1000\n",
      "           1       0.84      0.96      0.89      1000\n",
      "           2       0.64      0.69      0.66      1000\n",
      "           3       0.69      0.85      0.76      1000\n",
      "           4       0.70      0.54      0.61      1000\n",
      "           5       0.68      0.96      0.80      1000\n",
      "           6       0.63      0.35      0.45      1000\n",
      "           7       0.84      0.75      0.80      1000\n",
      "           8       0.95      0.75      0.84      1000\n",
      "           9       0.92      0.86      0.89      1000\n",
      "\n",
      "    accuracy                           0.75     10000\n",
      "   macro avg       0.76      0.75      0.74     10000\n",
      "weighted avg       0.76      0.75      0.74     10000\n",
      "\n"
     ]
    }
   ],
   "source": [
    "predictions = []\n",
    "for i in range(x_test.shape[0]):\n",
    "    predictions.append(knn(x_test[i], x_train, y_train, 5))\n",
    "\n",
    "print(classification_report(y_test, predictions))"
   ]
  },
  {
   "cell_type": "code",
   "execution_count": 6,
   "id": "eb74a511",
   "metadata": {
    "execution": {
     "iopub.execute_input": "2022-11-13T02:25:10.429925Z",
     "iopub.status.busy": "2022-11-13T02:25:10.429014Z",
     "iopub.status.idle": "2022-11-13T02:25:10.445140Z",
     "shell.execute_reply": "2022-11-13T02:25:10.443793Z"
    },
    "papermill": {
     "duration": 0.022879,
     "end_time": "2022-11-13T02:25:10.447329",
     "exception": false,
     "start_time": "2022-11-13T02:25:10.424450",
     "status": "completed"
    },
    "tags": []
   },
   "outputs": [
    {
     "name": "stdout",
     "output_type": "stream",
     "text": [
      "[[799  25   6 107   2   7  41   1  12   0]\n",
      " [  2 956   4  26   3   3   5   0   1   0]\n",
      " [ 82   9 685  39 101  18  62   1   3   0]\n",
      " [ 37  77   2 846  16   3  11   0   8   0]\n",
      " [ 29  31 214  90 535  14  80   0   7   0]\n",
      " [  0   2   0   2   0 964   0  24   0   8]\n",
      " [237  36 137 106  99  18 354   2   9   2]\n",
      " [  0   0   0   0   0 201   0 752   0  47]\n",
      " [ 16   3  17   7  10 105   6  63 751  22]\n",
      " [  0   0   0   5   0  82   0  48   0 865]]\n"
     ]
    }
   ],
   "source": [
    "print(confusion_matrix(y_test, predictions))"
   ]
  },
  {
   "cell_type": "code",
   "execution_count": 7,
   "id": "e1bae5a5",
   "metadata": {
    "execution": {
     "iopub.execute_input": "2022-11-13T02:25:10.455131Z",
     "iopub.status.busy": "2022-11-13T02:25:10.454849Z",
     "iopub.status.idle": "2022-11-13T02:25:10.459991Z",
     "shell.execute_reply": "2022-11-13T02:25:10.458984Z"
    },
    "papermill": {
     "duration": 0.01315,
     "end_time": "2022-11-13T02:25:10.463766",
     "exception": false,
     "start_time": "2022-11-13T02:25:10.450616",
     "status": "completed"
    },
    "tags": []
   },
   "outputs": [
    {
     "name": "stdout",
     "output_type": "stream",
     "text": [
      "程序运行时间:1085.864955663681秒\n"
     ]
    }
   ],
   "source": [
    "T2 = time.time()\n",
    "print('程序运行时间:%s秒' % ((T2 - T1)))"
   ]
  }
 ],
 "metadata": {
  "kernelspec": {
   "display_name": "Python 3",
   "language": "python",
   "name": "python3"
  },
  "language_info": {
   "codemirror_mode": {
    "name": "ipython",
    "version": 3
   },
   "file_extension": ".py",
   "mimetype": "text/x-python",
   "name": "python",
   "nbconvert_exporter": "python",
   "pygments_lexer": "ipython3",
   "version": "3.7.12"
  },
  "papermill": {
   "default_parameters": {},
   "duration": 1110.790669,
   "end_time": "2022-11-13T02:25:13.623654",
   "environment_variables": {},
   "exception": null,
   "input_path": "__notebook__.ipynb",
   "output_path": "__notebook__.ipynb",
   "parameters": {},
   "start_time": "2022-11-13T02:06:42.832985",
   "version": "2.3.4"
  }
 },
 "nbformat": 4,
 "nbformat_minor": 5
}