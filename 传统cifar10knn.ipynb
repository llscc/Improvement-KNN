{
 "cells": [
  {
   "cell_type": "code",
   "execution_count": 1,
   "id": "a7b73b48",
   "metadata": {
    "_cell_guid": "b1076dfc-b9ad-4769-8c92-a6c4dae69d19",
    "_uuid": "8f2839f25d086af736a60e9eeb907d3b93b6e0e5",
    "execution": {
     "iopub.execute_input": "2022-11-13T03:55:05.214914Z",
     "iopub.status.busy": "2022-11-13T03:55:05.214327Z",
     "iopub.status.idle": "2022-11-13T03:55:16.662286Z",
     "shell.execute_reply": "2022-11-13T03:55:16.661101Z"
    },
    "papermill": {
     "duration": 11.456527,
     "end_time": "2022-11-13T03:55:16.665470",
     "exception": false,
     "start_time": "2022-11-13T03:55:05.208943",
     "status": "completed"
    },
    "tags": []
   },
   "outputs": [],
   "source": [
    "import numpy as np\n",
    "import sklearn\n",
    "from sklearn.model_selection import train_test_split\n",
    "from sklearn.metrics import classification_report,confusion_matrix\n",
    "import operator\n",
    "import random\n",
    "import os\n",
    "import sys\n",
    "import time\n",
    "from tensorflow import keras\n"
   ]
  },
  {
   "cell_type": "code",
   "execution_count": 2,
   "id": "f7a7ebd3",
   "metadata": {
    "execution": {
     "iopub.execute_input": "2022-11-13T03:55:16.671573Z",
     "iopub.status.busy": "2022-11-13T03:55:16.671031Z",
     "iopub.status.idle": "2022-11-13T03:55:16.675873Z",
     "shell.execute_reply": "2022-11-13T03:55:16.674783Z"
    },
    "papermill": {
     "duration": 0.010451,
     "end_time": "2022-11-13T03:55:16.678463",
     "exception": false,
     "start_time": "2022-11-13T03:55:16.668012",
     "status": "completed"
    },
    "tags": []
   },
   "outputs": [],
   "source": [
    "T1 = time.time()"
   ]
  },
  {
   "cell_type": "code",
   "execution_count": 3,
   "id": "8aca1328",
   "metadata": {
    "execution": {
     "iopub.execute_input": "2022-11-13T03:55:16.684288Z",
     "iopub.status.busy": "2022-11-13T03:55:16.684023Z",
     "iopub.status.idle": "2022-11-13T03:55:16.691609Z",
     "shell.execute_reply": "2022-11-13T03:55:16.690503Z"
    },
    "papermill": {
     "duration": 0.013384,
     "end_time": "2022-11-13T03:55:16.694133",
     "exception": false,
     "start_time": "2022-11-13T03:55:16.680749",
     "status": "completed"
    },
    "tags": []
   },
   "outputs": [],
   "source": [
    "def knn(x_test, x_data, y_data, k):\n",
    "    # 计算样本数量\n",
    "    x_data_size = x_data.shape[0]\n",
    "    # 复制x_test\n",
    "    np.tile(x_test, (x_data_size, 1))\n",
    "    # 计算x_test与每一个样本的差值\n",
    "    diffMat = np.tile(x_test, (x_data_size, 1)) - x_data\n",
    "    # 计算差值的平方\n",
    "    sqDiffMat = diffMat ** 2\n",
    "    # 求和\n",
    "    sqDistances = sqDiffMat.sum(axis=1)\n",
    "    # 开方\n",
    "    distances = sqDistances ** 0.5\n",
    "    # 从小到大排序\n",
    "    sortedDistances = distances.argsort()\n",
    "\n",
    "    classCount = {}\n",
    "    for i in range(k):\n",
    "        # 获取标签\n",
    "        votelabel = y_data[sortedDistances[i]]\n",
    "        # 统计标签数量\n",
    "        classCount[votelabel] = classCount.get(votelabel, 0) + 1\n",
    "    # 根据operator.itemgetter(1)-第1个值对classCount排序，然后再取倒序\n",
    "    sortedClassCount = sorted(classCount.items(), key=operator.itemgetter(1), reverse=True)\n",
    "    # 获取数量最多的标签\n",
    "    return sortedClassCount[0][0]"
   ]
  },
  {
   "cell_type": "code",
   "execution_count": 4,
   "id": "ee87d680",
   "metadata": {
    "execution": {
     "iopub.execute_input": "2022-11-13T03:55:16.699493Z",
     "iopub.status.busy": "2022-11-13T03:55:16.699031Z",
     "iopub.status.idle": "2022-11-13T03:55:26.885034Z",
     "shell.execute_reply": "2022-11-13T03:55:26.883265Z"
    },
    "papermill": {
     "duration": 10.192274,
     "end_time": "2022-11-13T03:55:26.888402",
     "exception": false,
     "start_time": "2022-11-13T03:55:16.696128",
     "status": "completed"
    },
    "tags": []
   },
   "outputs": [
    {
     "name": "stdout",
     "output_type": "stream",
     "text": [
      "Downloading data from https://www.cs.toronto.edu/~kriz/cifar-10-python.tar.gz\n",
      "170500096/170498071 [==============================] - 6s 0us/step\n",
      "170508288/170498071 [==============================] - 6s 0us/step\n",
      "(50000, 32, 32, 3)\n",
      "(50000, 1)\n",
      "(10000, 32, 32, 3)\n",
      "(10000, 1)\n",
      "(50000, 3072)\n",
      "(50000,)\n",
      "(10000, 3072)\n",
      "(10000,)\n"
     ]
    }
   ],
   "source": [
    "(x_train,y_train),(x_test,y_test) = keras.datasets.cifar10.load_data()\n",
    "#x_train,x_test,y_train,y_test = train_test_split(cifar10.data, cifar10.target, test_size=0.2)\n",
    "print(x_train.shape)\n",
    "print(y_train.shape)\n",
    "print(x_test.shape)\n",
    "print(y_test.shape)\n",
    "\n",
    "y_test=y_test.flatten()\n",
    "x_train=x_train.reshape(50000,3072)\n",
    "y_train=y_train.flatten()\n",
    "x_test=x_test.reshape(10000,3072)\n",
    "print(x_train.shape)\n",
    "print(y_train.shape)\n",
    "print(x_test.shape)\n",
    "print(y_test.shape)"
   ]
  },
  {
   "cell_type": "code",
   "execution_count": 5,
   "id": "dfd8088c",
   "metadata": {
    "execution": {
     "iopub.execute_input": "2022-11-13T03:55:26.911160Z",
     "iopub.status.busy": "2022-11-13T03:55:26.910297Z",
     "iopub.status.idle": "2022-11-13T04:54:30.395032Z",
     "shell.execute_reply": "2022-11-13T04:54:30.394035Z"
    },
    "papermill": {
     "duration": 3543.508621,
     "end_time": "2022-11-13T04:54:30.407548",
     "exception": false,
     "start_time": "2022-11-13T03:55:26.898927",
     "status": "completed"
    },
    "tags": []
   },
   "outputs": [
    {
     "name": "stdout",
     "output_type": "stream",
     "text": [
      "              precision    recall  f1-score   support\n",
      "\n",
      "           0       0.17      0.66      0.26      1000\n",
      "           1       0.38      0.19      0.25      1000\n",
      "           2       0.18      0.34      0.24      1000\n",
      "           3       0.29      0.13      0.18      1000\n",
      "           4       0.32      0.15      0.20      1000\n",
      "           5       0.31      0.09      0.14      1000\n",
      "           6       0.34      0.14      0.20      1000\n",
      "           7       0.41      0.11      0.18      1000\n",
      "           8       0.30      0.45      0.36      1000\n",
      "           9       0.44      0.13      0.20      1000\n",
      "\n",
      "    accuracy                           0.24     10000\n",
      "   macro avg       0.31      0.24      0.22     10000\n",
      "weighted avg       0.31      0.24      0.22     10000\n",
      "\n"
     ]
    }
   ],
   "source": [
    "\n",
    "predictions = []\n",
    "for i in range(x_test.shape[0]):\n",
    "    predictions.append(knn(x_test[i], x_train, y_train, 9))\n",
    "\n",
    "print(classification_report(y_test, predictions))\n"
   ]
  },
  {
   "cell_type": "code",
   "execution_count": 6,
   "id": "0ab34aa5",
   "metadata": {
    "execution": {
     "iopub.execute_input": "2022-11-13T04:54:30.425257Z",
     "iopub.status.busy": "2022-11-13T04:54:30.424966Z",
     "iopub.status.idle": "2022-11-13T04:54:30.438636Z",
     "shell.execute_reply": "2022-11-13T04:54:30.437516Z"
    },
    "papermill": {
     "duration": 0.025395,
     "end_time": "2022-11-13T04:54:30.441279",
     "exception": false,
     "start_time": "2022-11-13T04:54:30.415884",
     "status": "completed"
    },
    "tags": []
   },
   "outputs": [
    {
     "name": "stdout",
     "output_type": "stream",
     "text": [
      "[[657  20 107  11  11   5  13   3 164   9]\n",
      " [391 188 100  30  18  17  26  25 152  53]\n",
      " [408  20 341  35  47  19  40  12  72   6]\n",
      " [327  31 222 134  38  53  63  26  86  20]\n",
      " [401   5 258  25 149  20  30  25  82   5]\n",
      " [358  20 229  81  40  92  52  24  87  17]\n",
      " [281  25 290  53  78  43 141  25  56   8]\n",
      " [374  33 166  37  64  24  28 111 139  24]\n",
      " [387  23  73  20   9   5   8   9 450  16]\n",
      " [377 136  68  29  19  18  10   8 209 126]]\n"
     ]
    }
   ],
   "source": [
    "print(confusion_matrix(y_test, predictions))"
   ]
  },
  {
   "cell_type": "code",
   "execution_count": 7,
   "id": "23a65fb0",
   "metadata": {
    "execution": {
     "iopub.execute_input": "2022-11-13T04:54:30.459906Z",
     "iopub.status.busy": "2022-11-13T04:54:30.459134Z",
     "iopub.status.idle": "2022-11-13T04:54:30.465037Z",
     "shell.execute_reply": "2022-11-13T04:54:30.463774Z"
    },
    "papermill": {
     "duration": 0.017962,
     "end_time": "2022-11-13T04:54:30.468099",
     "exception": false,
     "start_time": "2022-11-13T04:54:30.450137",
     "status": "completed"
    },
    "tags": []
   },
   "outputs": [
    {
     "name": "stdout",
     "output_type": "stream",
     "text": [
      "程序运行时间:3553.78897690773秒\n"
     ]
    }
   ],
   "source": [
    "T2 = time.time()\n",
    "print('程序运行时间:%s秒' % ((T2 - T1)))"
   ]
  }
 ],
 "metadata": {
  "kernelspec": {
   "display_name": "Python 3",
   "language": "python",
   "name": "python3"
  },
  "language_info": {
   "codemirror_mode": {
    "name": "ipython",
    "version": 3
   },
   "file_extension": ".py",
   "mimetype": "text/x-python",
   "name": "python",
   "nbconvert_exporter": "python",
   "pygments_lexer": "ipython3",
   "version": "3.7.12"
  },
  "papermill": {
   "default_parameters": {},
   "duration": 3580.565881,
   "end_time": "2022-11-13T04:54:33.696551",
   "environment_variables": {},
   "exception": null,
   "input_path": "__notebook__.ipynb",
   "output_path": "__notebook__.ipynb",
   "parameters": {},
   "start_time": "2022-11-13T03:54:53.130670",
   "version": "2.3.4"
  }
 },
 "nbformat": 4,
 "nbformat_minor": 5
}
